{
 "cells": [
  {
   "cell_type": "markdown",
   "metadata": {},
   "source": [
    "### EJERCICIOS"
   ]
  },
  {
   "cell_type": "markdown",
   "metadata": {},
   "source": [
    "#### Escribe un programa que pida un número entero positivo al usuario y\n",
    "calcule la suma de los dígitos de un número entero positivo. Por\n",
    "ejemplo, la suma de 1000 sería 1, y la suma de 342 sería 9\n",
    "○ Una pista: Al dividir el número por 10, el resto es el último dígito, y la\n",
    "división los dígitos restantes (por ejemplo, 342%10 da 2, y 342/10 da 34)"
   ]
  },
  {
   "cell_type": "code",
   "execution_count": 1,
   "metadata": {},
   "outputs": [
    {
     "name": "stdout",
     "output_type": "stream",
     "text": [
      "Dime un número entero positivo: 5\n",
      "Esto no es un número\n"
     ]
    }
   ],
   "source": [
    "numero_st=input(\"Dime un número entero positivo: \")\n",
    "\n",
    "if numero_st.isdigit():\n",
    "    numero=eval(numero_st)\n",
    "    suma=0\n",
    "    \n",
    "while suma>0:\n",
    "    suma=suma+numero%10\n",
    "    numero=int(numero/10)\n",
    "        \n",
    "    print(\"La suma de las cifras es \",suma)\n",
    "\n",
    "else:\n",
    "    print(\"Esto no es un número\")"
   ]
  },
  {
   "cell_type": "code",
   "execution_count": 2,
   "metadata": {},
   "outputs": [
    {
     "name": "stdout",
     "output_type": "stream",
     "text": [
      "['Madrid', 'Alcorcón', 'Móstoles', 'Fuenlabrada']\n",
      "Dime una ciudad weyAlcorcón\n",
      "1\n",
      "['Madrid', 'Alcorcón', 'Móstoles', 'Fuenlabrada', 'Alcorcón']\n"
     ]
    }
   ],
   "source": [
    "lista_ciudades=[\"Madrid\",\"Alcorcón\",\"Móstoles\",\"Fuenlabrada\"]\n",
    "\n",
    "print(lista_ciudades)\n",
    "ciudad=input(\"Dime una ciudad wey\")\n",
    "\n",
    "\n",
    "if ciudad in lista_ciudades:\n",
    "    print(lista_ciudades.index(ciudad))\n",
    "else:\n",
    "    print(ciudad, \"No está en la lista, la incluyo\")\n",
    "lista_ciudades.append(ciudad)\n",
    "print(lista_ciudades)"
   ]
  },
  {
   "cell_type": "code",
   "execution_count": 7,
   "metadata": {},
   "outputs": [
    {
     "name": "stdout",
     "output_type": "stream",
     "text": [
      "Dime una posición: 2\n",
      "La ciudad en la posición  2  es Alcorcón\n"
     ]
    }
   ],
   "source": [
    "pos=eval(input(\"Dime una posición: \"))\n",
    "\n",
    "if pos<len(lista_ciudades) :\n",
    "    print(\"La ciudad en la posición \",pos,\" es\",lista_ciudades[pos-1])\n",
    "    \n",
    "else:\n",
    "    print(\"No hay tantas ciudades\")"
   ]
  },
  {
   "cell_type": "code",
   "execution_count": 14,
   "metadata": {},
   "outputs": [
    {
     "name": "stdout",
     "output_type": "stream",
     "text": [
      "2 4 6 8 10  Hay 5 números pares\n"
     ]
    }
   ],
   "source": [
    "lista_numeros=[1,2,3,4,5,6,7,8,9,10]\n",
    "num_pares=0\n",
    "\n",
    "for numero in lista_numeros:\n",
    "    if numero%2==0:\n",
    "        num_pares+=1\n",
    "        print(numero,end=\" \")\n",
    "        \n",
    "print(\" Hay %i números pares\" % (num_pares))"
   ]
  },
  {
   "cell_type": "code",
   "execution_count": 18,
   "metadata": {},
   "outputs": [
    {
     "name": "stdout",
     "output_type": "stream",
     "text": [
      "[]\n",
      "[]\n",
      "[]\n",
      "[]\n",
      "[]\n"
     ]
    }
   ],
   "source": [
    "lista_numeros=[]\n",
    "for i in range(20,25):\n",
    "    print(lista_numeros)"
   ]
  },
  {
   "cell_type": "code",
   "execution_count": 19,
   "metadata": {},
   "outputs": [
    {
     "name": "stdout",
     "output_type": "stream",
     "text": [
      "28938 MADRID\n",
      "25025 ORENSE\n",
      "28930 BARCELONA\n",
      "25026 SANTANDER\n"
     ]
    }
   ],
   "source": [
    "cp=[28938,25025,28930,25026]\n",
    "ciudades=[\"Madrid\",\"Orense\",\"Barcelona\",\"Santander\"]\n",
    "\n",
    "for c1,c2 in zip(cp,ciudades):\n",
    "    print(c1,c2.upper())"
   ]
  },
  {
   "cell_type": "code",
   "execution_count": 20,
   "metadata": {},
   "outputs": [
    {
     "name": "stdout",
     "output_type": "stream",
     "text": [
      "[28938, 25025, 28930, 25026]\n",
      "[25025, 25026, 28930, 28938]\n"
     ]
    }
   ],
   "source": [
    "print(cp)\n",
    "cp.sort()\n",
    "print(cp)"
   ]
  },
  {
   "cell_type": "markdown",
   "metadata": {},
   "source": [
    "#### Define una función con dos argumentos, una lista de strings y un\n",
    "string. La función debe contar cuántas veces aparece el string en la\n",
    "lista.\n",
    "○ Comprueba si la función vale también para números"
   ]
  },
  {
   "cell_type": "code",
   "execution_count": 25,
   "metadata": {},
   "outputs": [
    {
     "name": "stdout",
     "output_type": "stream",
     "text": [
      "Azul aparece 2 veces\n",
      "rojo aparece  un 25% de veces\n"
     ]
    }
   ],
   "source": [
    "lista_colores=[\"azul\",\"verde\",\"rojo\",\"amarillo\",\"morado\",\"azul\",\"naranja\",\"rojo\"]\n",
    "contador=0\n",
    "for color in lista_colores:\n",
    "    if color==\"azul\":\n",
    "        contador=contador+1\n",
    "        \n",
    "print(\"Azul aparece %i veces\" % (contador))\n",
    "\n",
    "print(\"%s aparece  un %i%% de veces\"% (color,contador/len(lista_colores)*100))"
   ]
  },
  {
   "cell_type": "code",
   "execution_count": 26,
   "metadata": {},
   "outputs": [
    {
     "name": "stdout",
     "output_type": "stream",
     "text": [
      "tres\n",
      "3\n",
      "('uno', 'dos', 'tres', 'uno', 'dos', 'tres', 'uno', 'dos', 'tres')\n"
     ]
    },
    {
     "data": {
      "text/plain": [
       "('uno', 'dos', 'tres', 'cuatro', 'cinco', 'seis', 'siete')"
      ]
     },
     "execution_count": 26,
     "metadata": {},
     "output_type": "execute_result"
    }
   ],
   "source": [
    "tupla1=(\"uno\",\"dos\",\"tres\")\n",
    "tupla2=(\"cuatro\",\"cinco\",\"seis\",\"siete\")\n",
    "\n",
    "print(tupla1[2])\n",
    "print(len(tupla1))\n",
    "print(tupla1*3)\n",
    "tupla1+tupla2\n",
    "\n",
    "\n"
   ]
  },
  {
   "cell_type": "code",
   "execution_count": 30,
   "metadata": {},
   "outputs": [
    {
     "name": "stdout",
     "output_type": "stream",
     "text": [
      "[('28040', 'Madrid'), ('08080', 'Barcelona'), ('28938', 'Mostoles'), ('28030', 'Madrid')]\n",
      "28040\n",
      "28030\n"
     ]
    }
   ],
   "source": [
    "lista_ciudades=[(\"28040\", \"Madrid\"),(\"08080\",\"Barcelona\"),(\"28938\",\"Mostoles\"),(\"28030\",\"Madrid\")]\n",
    "print(lista_ciudades)\n",
    "\n",
    "for ciudad in lista_ciudades:\n",
    "    if ciudad[1]==\"Madrid\":\n",
    "        print(ciudad[0])"
   ]
  },
  {
   "cell_type": "code",
   "execution_count": 31,
   "metadata": {},
   "outputs": [
    {
     "name": "stdout",
     "output_type": "stream",
     "text": [
      "[('08080', 'Barcelona'), ('28030', 'Madrid'), ('28040', 'Madrid'), ('28938', 'Mostoles')]\n"
     ]
    }
   ],
   "source": [
    "lista_ciudades.sort()\n",
    "print(lista_ciudades)"
   ]
  },
  {
   "cell_type": "code",
   "execution_count": 35,
   "metadata": {},
   "outputs": [
    {
     "name": "stdout",
     "output_type": "stream",
     "text": [
      "{1: 'a', 11: 'b', 2: 'aa', 12: 'bb', 3: 'aaa', 13: 'bbb', 4: 'aaaa', 14: 'bbbb', 5: 'aaaaa', 15: 'bbbbb', 6: 'aaaaaa', 16: 'bbbbbb', 7: 'aaaaaaa', 17: 'bbbbbbb', 8: 'aaaaaaaa', 18: 'bbbbbbbb', 9: 'aaaaaaaaa', 19: 'bbbbbbbbb', 10: 'aaaaaaaaaa', 20: 'bbbbbbbbbb'}\n"
     ]
    }
   ],
   "source": [
    "diccionario={}\n",
    "for i in range(1,11):\n",
    "    diccionario[i]=\"a\"*i\n",
    "    diccionario[i+10]=\"b\"*i\n",
    "    \n",
    "print(diccionario)"
   ]
  },
  {
   "cell_type": "code",
   "execution_count": 40,
   "metadata": {},
   "outputs": [
    {
     "name": "stdout",
     "output_type": "stream",
     "text": [
      "1\n",
      "11\n",
      "2\n",
      "12\n",
      "3\n",
      "13\n",
      "4\n",
      "14\n",
      "5\n",
      "15\n",
      "6\n",
      "16\n",
      "7\n",
      "17\n",
      "8\n",
      "18\n",
      "9\n",
      "19\n",
      "10\n",
      "20\n"
     ]
    },
    {
     "data": {
      "text/plain": [
       "[1, 2, 3, 4, 5, 6, 7, 8, 9, 10, 11, 12, 13, 14, 15, 16, 17, 18, 19, 20]"
      ]
     },
     "execution_count": 40,
     "metadata": {},
     "output_type": "execute_result"
    }
   ],
   "source": [
    "for clave in diccionario:\n",
    "    print(clave)\n",
    "sorted(diccionario) ##para ordenar los valores\n",
    "\n",
    "claves_ordenadas=sorted(diccionario)\n"
   ]
  },
  {
   "cell_type": "code",
   "execution_count": null,
   "metadata": {},
   "outputs": [],
   "source": []
  }
 ],
 "metadata": {
  "kernelspec": {
   "display_name": "Python 3",
   "language": "python",
   "name": "python3"
  },
  "language_info": {
   "codemirror_mode": {
    "name": "ipython",
    "version": 3
   },
   "file_extension": ".py",
   "mimetype": "text/x-python",
   "name": "python",
   "nbconvert_exporter": "python",
   "pygments_lexer": "ipython3",
   "version": "3.8.3"
  }
 },
 "nbformat": 4,
 "nbformat_minor": 4
}
