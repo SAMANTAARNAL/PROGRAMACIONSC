{
 "cells": [
  {
   "cell_type": "markdown",
   "metadata": {},
   "source": [
    "**Nombre:**  SAMANTA\n",
    "\n",
    "**Apellidos:**  ARNAL MARTÍN\n",
    "\n",
    "**DNI/NIE:**  47469793-R"
   ]
  },
  {
   "cell_type": "markdown",
   "metadata": {},
   "source": [
    "_**Nota:** para hacer todos estos ejercicios puedes consultar los apuntes de la asignatura y todas las páginas de ayuda sugeridas en ellos_"
   ]
  },
  {
   "cell_type": "markdown",
   "metadata": {},
   "source": [
    "**1. Escribe un programa que pida el alto y el ancho (en metros) de una parcela rectangular y calcule su perímetro y su área. Si esta última es mayor de una hectárea, deberá expresarse la medida en esta unidad en lugar de en $m^2$**"
   ]
  },
  {
   "cell_type": "code",
   "execution_count": 1,
   "metadata": {},
   "outputs": [
    {
     "name": "stdout",
     "output_type": "stream",
     "text": [
      "¿Cuál es el ancho de la parcela?4\n",
      "El ancho de la parcela es de  4  metros\n",
      "¿Cuál es el largo de la parcela?5\n",
      "El largo de la parcela es de  5  metros\n",
      "El perímetro de la parcela es de  4455  metros\n"
     ]
    }
   ],
   "source": [
    "ancho=input(\"¿Cuál es el ancho de la parcela?\")\n",
    "print(\"El ancho de la parcela es de \",ancho,\" metros\")\n",
    "largo=input(\"¿Cuál es el largo de la parcela?\")\n",
    "print(\"El largo de la parcela es de \",largo,\" metros\")\n",
    "\n",
    "anchox2=ancho*2\n",
    "largox2=largo*2\n",
    "\n",
    "perimetro=anchox2+largox2\n",
    "print(\"El perímetro de la parcela es de \",perimetro,\" metros\")"
   ]
  },
  {
   "cell_type": "markdown",
   "metadata": {},
   "source": [
    "**2. Escribe un programa que lea los coeficientes y calule la solución de una ecuación de segundo grado de la forma $ax^2+bx+c=0$**"
   ]
  },
  {
   "cell_type": "code",
   "execution_count": 2,
   "metadata": {},
   "outputs": [
    {
     "name": "stdout",
     "output_type": "stream",
     "text": [
      "Dime un valor para a: 54\n",
      "Dime un valor para b: 58\n",
      "Dime un valor para c: 8\n",
      "Las soluciones de la ecuación son:\n",
      "-0.16252317747857992\n",
      "-0.911550896595494\n"
     ]
    }
   ],
   "source": [
    "from math import sqrt\n",
    "A = int(input(\"Dime un valor para a: \"))\n",
    "B = int(input(\"Dime un valor para b: \"))\n",
    "C = int(input(\"Dime un valor para c: \"))\n",
    "x1= 0\n",
    "x2= 0\n",
    "\n",
    "\n",
    "if ((B**2)-4*A*C) < 0:\n",
    "  print(\"La solución de la ecuación es con números complejos\")\n",
    "\n",
    "else:\n",
    "  x1 = (-B+sqrt(B**2-(4*A*C)))/(2*A)\n",
    "  x2 = (-B-sqrt(B**2-(4*A*C)))/(2*A)\n",
    "  print(\"Las soluciones de la ecuación son:\")\n",
    "  print(x1)\n",
    "  print(x2)\n"
   ]
  },
  {
   "cell_type": "markdown",
   "metadata": {},
   "source": [
    "**3. Escribe un programa que lea una cadena de texto y cuente cuántos caracteres no son letras**"
   ]
  },
  {
   "cell_type": "code",
   "execution_count": 3,
   "metadata": {},
   "outputs": [
    {
     "name": "stdout",
     "output_type": "stream",
     "text": [
      "\n",
      "\n",
      "2\n",
      "\n",
      "\n",
      "\n",
      "\n",
      "\n",
      "\n",
      "\n",
      "10\n",
      "\n",
      "\n",
      "\n",
      "\n",
      "\n",
      "\n",
      "\n",
      "\n",
      "\n"
     ]
    }
   ],
   "source": [
    "from collections import Counter\n",
    "frase=\"El trabajo dignifica\"\n",
    "for i in range(len(frase)):\n",
    "    if frase[i] is \" \":\n",
    "        print(i)\n",
    "      \n",
    "    else:\n",
    "        print()"
   ]
  },
  {
   "cell_type": "markdown",
   "metadata": {},
   "source": [
    "**4. Escribe un programa que lea una cadena de texto y le quite todos los caracteres que no sean letras**"
   ]
  },
  {
   "cell_type": "code",
   "execution_count": 21,
   "metadata": {},
   "outputs": [
    {
     "name": "stdout",
     "output_type": "stream",
     "text": [
      "El trabajo dignifica\n",
      "Eltrabajodignifica\n"
     ]
    }
   ],
   "source": [
    "frase=\"El trabajo dignifica\"\n",
    "print(frase)\n",
    "mod=frase.replace(\" \", \"\")\n",
    "print(mod)"
   ]
  },
  {
   "cell_type": "markdown",
   "metadata": {},
   "source": [
    "**5. Escribe un programa que lea una cadena de texto y diga si es un palíndromo**"
   ]
  },
  {
   "cell_type": "code",
   "execution_count": 23,
   "metadata": {},
   "outputs": [
    {
     "name": "stdout",
     "output_type": "stream",
     "text": [
      "Dame una palabra: ala\n",
      "ala es un palindromo\n"
     ]
    }
   ],
   "source": [
    "class Cadenas:\n",
    "    def __init__ (self, cad1):\n",
    "        self.cad1=cad1\n",
    " \n",
    "    def Pal(self):\n",
    "        cad1 = self.cad1\n",
    "        c,i,nom,cad,x = 0,0,'','',''\n",
    "        i = len(cad1)\n",
    "        nom = cad1.lower()\n",
    "        while i != c:\n",
    "            for x in nom:\n",
    "                cad = x + cad\n",
    "                c=c+1\n",
    "            if nom==cad:\n",
    "                return str(cad1 + \" es un palindromo\")\n",
    "            else:\n",
    "                return str(cad1 + \" no es un palindromo\")\n",
    " \n",
    "cad1 = input('Dame una palabra: ')\n",
    "op1=Cadenas(cad1)\n",
    " \n",
    "print(op1.Pal())"
   ]
  },
  {
   "cell_type": "markdown",
   "metadata": {},
   "source": [
    "**6. Escribe un programa que lea una frase, la separe en palabras e imprima las palabras por orden de longitud. Las palabras de la misma longitud deberán imprimirse por orden lexicográfico**"
   ]
  },
  {
   "cell_type": "code",
   "execution_count": 24,
   "metadata": {},
   "outputs": [
    {
     "name": "stdout",
     "output_type": "stream",
     "text": [
      "['el', 'del', 'cuco', 'nido', 'voló', 'sobre', 'Alguien']\n"
     ]
    }
   ],
   "source": [
    "frase=\"Alguien voló sobre el nido del cuco\"\n",
    "frase2=frase.split(\" \")\n",
    "frase2.sort()\n",
    "print(sorted(frase2,key=len))"
   ]
  },
  {
   "cell_type": "markdown",
   "metadata": {},
   "source": [
    "**7. Las matrículas actuales de los coches en España están compuestas por cuatro dígitos y tres consonantes. Escribe un programa que lea una matrícula, una letra y un número y nos diga si**\n",
    "  * **La matrícula contiene ese dígito**\n",
    "  * **Las letras de la matrícula comienzan con la letra dada**\n",
    "  * **Ambas cosas**\n",
    "  * **Ninguna de las dos cosas**"
   ]
  },
  {
   "cell_type": "code",
   "execution_count": 25,
   "metadata": {},
   "outputs": [
    {
     "name": "stdout",
     "output_type": "stream",
     "text": [
      "Introduce la matrícula: 7582jcw\n",
      "Introduce el número: 8\n",
      "Introduce la letra: j\n",
      "El número y la letra están en la matrícula\n"
     ]
    }
   ],
   "source": [
    "matricula=input(\"Introduce la matrícula: \").upper()\n",
    "numero=input(\"Introduce el número: \")\n",
    "letra=input(\"Introduce la letra: \").upper()\n",
    "\n",
    "if(numero in list(matricula)and letra in list(matricula)):\n",
    "    print(\"El número y la letra están en la matrícula\")\n",
    "    \n",
    "elif(numero in list(matricula)and letra not in list(matricula)):\n",
    "    print(\"El número está en la matrícula, la letra no\")\n",
    "    \n",
    "elif(numero not in list(matricula)and letra in list(matricula)):\n",
    "    print(\"La letra está en la matrícula, el número no\")\n",
    "    \n",
    "else:\n",
    "    print(\"Ninguno de los dos está en la matrícula\")"
   ]
  },
  {
   "cell_type": "markdown",
   "metadata": {},
   "source": [
    "**8. Dada una lista de matrículas, un dígito y una letra, escribe un programa que nos diga cuántas matrículas cumplen cada una de las condiciones anteriores**"
   ]
  },
  {
   "cell_type": "code",
   "execution_count": 8,
   "metadata": {},
   "outputs": [
    {
     "name": "stdout",
     "output_type": "stream",
     "text": [
      "Introduce la lista de matrículas separadas por comas: \n",
      "9786rf4e5324r\n",
      "Introduce el número: 5\n",
      "Introduce la letra: t\n",
      "Número de matrículas la letra y el número: 0\n",
      "Número de matrículas con sólo el número: 1\n",
      "Número de matrículas con sólo la letra: 0\n",
      "Número de matrículas sin la letra y sin el número: 0\n"
     ]
    }
   ],
   "source": [
    "matriculas = input('Introduce la lista de matrículas separadas por comas: \\n').upper()\n",
    "numero = input('Introduce el número: ')\n",
    "letra = input('Introduce la letra: ').upper()\n",
    "#Quitamos cualquier espacio que haya metido el usuario y metemos las matrículas en una lista\n",
    "matriculas = \"\".join(matriculas.split()).split(',')\n",
    "\n",
    "#Inicializamos contadores\n",
    "cont_1 = cont_2 = cont_3 = cont_4 = 0\n",
    "\n",
    "for matricula in matriculas:\n",
    "    \n",
    "    if(numero in list(matricula) and letra in list(matricula)):\n",
    "        cont_1+=1\n",
    "    elif(numero in list(matricula) and letra not in list(matricula)):\n",
    "        cont_2+=1\n",
    "    elif(numero not in list(matricula) and letra in list(matricula)):\n",
    "        cont_3+=1\n",
    "    else:\n",
    "        cont_4+=1\n",
    "        \n",
    "print(\"Número de matrículas la letra y el número: {}\".format(cont_1))\n",
    "print(\"Número de matrículas con sólo el número: {}\".format(cont_2))\n",
    "print(\"Número de matrículas con sólo la letra: {}\".format(cont_3))\n",
    "print(\"Número de matrículas sin la letra y sin el número: {}\".format(cont_4))"
   ]
  },
  {
   "cell_type": "markdown",
   "metadata": {},
   "source": [
    "**9. En https://www.dieselogasolina.com/tabla-matriculas-por-anos.html puedes encontrar una tabla con las últimas letras asignadas cada mes desde el año 2000 para matricular coches. Escribe un programa que reciba la matrícula completa de un coche y devuelva el mes y el año en el que fue matriculado**"
   ]
  },
  {
   "cell_type": "code",
   "execution_count": 7,
   "metadata": {},
   "outputs": [
    {
     "name": "stdout",
     "output_type": "stream",
     "text": [
      "Introduce una matrícula: 7582jcw\n",
      "Las letras de la matrícula no están en la tabla\n"
     ]
    },
    {
     "ename": "IndexError",
     "evalue": "index 0 is out of bounds for axis 0 with size 0",
     "output_type": "error",
     "traceback": [
      "\u001b[1;31m---------------------------------------------------------------------------\u001b[0m",
      "\u001b[1;31mIndexError\u001b[0m                                Traceback (most recent call last)",
      "\u001b[1;32m<ipython-input-7-0b6892fecbf8>\u001b[0m in \u001b[0;36m<module>\u001b[1;34m\u001b[0m\n\u001b[0;32m     18\u001b[0m     \u001b[0mprint\u001b[0m\u001b[1;33m(\u001b[0m\u001b[1;34m\"Las letras de la matrícula no están en la tabla\"\u001b[0m\u001b[1;33m)\u001b[0m\u001b[1;33m\u001b[0m\u001b[1;33m\u001b[0m\u001b[0m\n\u001b[0;32m     19\u001b[0m \u001b[1;33m\u001b[0m\u001b[0m\n\u001b[1;32m---> 20\u001b[1;33m \u001b[0mindices\u001b[0m\u001b[1;33m=\u001b[0m\u001b[0mindices\u001b[0m\u001b[1;33m[\u001b[0m\u001b[1;36m0\u001b[0m\u001b[1;33m]\u001b[0m\u001b[1;33m\u001b[0m\u001b[1;33m\u001b[0m\u001b[0m\n\u001b[0m\u001b[0;32m     21\u001b[0m \u001b[1;33m\u001b[0m\u001b[0m\n\u001b[0;32m     22\u001b[0m \u001b[0mprint\u001b[0m\u001b[1;33m(\u001b[0m\u001b[1;34m\"Mes: {} \\nAño: {}\"\u001b[0m\u001b[1;33m.\u001b[0m\u001b[0mformat\u001b[0m\u001b[1;33m(\u001b[0m\u001b[0mmeses\u001b[0m\u001b[1;33m[\u001b[0m\u001b[0mindices\u001b[0m\u001b[1;33m[\u001b[0m\u001b[1;36m1\u001b[0m\u001b[1;33m]\u001b[0m\u001b[1;33m-\u001b[0m\u001b[1;36m1\u001b[0m\u001b[1;33m]\u001b[0m\u001b[1;33m,\u001b[0m \u001b[0mtabla\u001b[0m\u001b[1;33m[\u001b[0m\u001b[0mindices\u001b[0m\u001b[1;33m[\u001b[0m\u001b[1;36m0\u001b[0m\u001b[1;33m]\u001b[0m\u001b[1;33m,\u001b[0m \u001b[1;36m0\u001b[0m\u001b[1;33m]\u001b[0m\u001b[1;33m)\u001b[0m\u001b[1;33m)\u001b[0m\u001b[1;33m\u001b[0m\u001b[1;33m\u001b[0m\u001b[0m\n",
      "\u001b[1;31mIndexError\u001b[0m: index 0 is out of bounds for axis 0 with size 0"
     ]
    }
   ],
   "source": [
    "import numpy as np\n",
    "\n",
    "archivo = open('matFecha.txt', 'r')\n",
    "\n",
    "#Guardamos los meses en una lista\n",
    "meses = archivo.readline().strip().split('\\t')\n",
    "archivo.close()\n",
    "\n",
    "#Cargamos el resto de la tabla\n",
    "tabla = np.loadtxt('matFecha.txt', dtype = str, skiprows=1)\n",
    "\n",
    "#Se cogen las letras de la matricula completa\n",
    "letras_matricula = input('Introduce una matrícula: ').upper()[4:7]\n",
    "\n",
    "#Se obtienen los índices (fila,columna) de las letras en la tabla\n",
    "indices = np.argwhere(tabla == letras_matricula)\n",
    "if(len(indices) == 0):\n",
    "    print(\"Las letras de la matrícula no están en la tabla\")\n",
    "\n",
    "indices=indices[0]\n",
    "\n",
    "print(\"Mes: {} \\nAño: {}\".format(meses[indices[1]-1], tabla[indices[0], 0]))\n"
   ]
  },
  {
   "cell_type": "markdown",
   "metadata": {},
   "source": [
    "**10. El índice $r$ de contagio del coronavirus mide el número medio de contagios que causa cada persona infectada. Si $r=3$ y el primer día de la epidemia hay una persona contagiada, esa persona contagiará a 3, por lo que el segundo día habrá 4 personas contagiadas. Esas tres nuevas personas contagiadas contagiarán a otras 3 cada una, por lo que habrá 9 nuevos contagiados, haciendo un total de 13 personas contagiadas. Escribe un programa que pida el número inicial de contagiados $i$, el valor del índice medio de contagios $r$ y un número $n$ de días y escriba por pantalla la evolución en el número de contagiados durante los primeros $n$ días de pandemia. Para cada día debe imprimir el número de nuevos contagios y el número de contagios acumulados**"
   ]
  },
  {
   "cell_type": "code",
   "execution_count": 2,
   "metadata": {},
   "outputs": [
    {
     "name": "stdout",
     "output_type": "stream",
     "text": [
      "Introduce el número inicial de contagiados: 1\n",
      "Introduce el índice medio de contagios: 3\n",
      "Introduce el número de días: 8\n",
      "\n",
      "\n",
      "Día 1, Nuevos contagios: 3, Contagios acumulados: 4\n",
      "Día 2, Nuevos contagios: 12, Contagios acumulados: 16\n",
      "Día 3, Nuevos contagios: 48, Contagios acumulados: 64\n",
      "Día 4, Nuevos contagios: 192, Contagios acumulados: 256\n",
      "Día 5, Nuevos contagios: 768, Contagios acumulados: 1024\n",
      "Día 6, Nuevos contagios: 3072, Contagios acumulados: 4096\n",
      "Día 7, Nuevos contagios: 12288, Contagios acumulados: 16384\n",
      "Día 8, Nuevos contagios: 49152, Contagios acumulados: 65536\n"
     ]
    }
   ],
   "source": [
    "i = int(input('Introduce el número inicial de contagiados: '))\n",
    "r = int(input('Introduce el índice medio de contagios: '))\n",
    "n = int(input('Introduce el número de días: '))\n",
    "print(\"\\n\")\n",
    "acum = i\n",
    "for dia in range(1, n+1):\n",
    "    print(\"Día {}, Nuevos contagios: {}, Contagios acumulados: {}\".format(dia, r*acum, acum+r*acum))\n",
    "    \n",
    "    acum+=r*acum"
   ]
  },
  {
   "cell_type": "markdown",
   "metadata": {},
   "source": [
    "**11. Puedes obtener una lista de códigos postales de (https://www.codigospostales.com/descarga.html). En el fichero .zip que te puedes descargar de ahí puedes obtener los códigos postales de todas las poblaciones de España, pero están estructurados de una forma un poco particular, aunque sencilla de procesar automáticamente. El objetivo último del ejercicio es obtener un fichero con un listado de todos los códigos postales de España asociados a su provincia y población, ordenados por código postal. Cada línea deberá tener el formato**  \n",
    "    *CódigoPostal Provincia Poblaciones*  \n",
    "Indicaciones para resolver el ejercicio:\n",
    "* Abre el fichero codciu.txt. En cada línea de ese fichero puedes encontrar un código compuesto por tres números o dos números y una letra, seguidos del nombre de una población o provincia.\n",
    "* Para cada línea, debes separar los tres primeros caracteres de los demás, y después\n",
    "  + Si de esos tres primeros caracteres hay dos números y una x (NNx), quiere decir que el fichero asociado contiene información de poblaciones pequeñas de la provincia. Procesa los ficheros de nombre NNxcodpos.txt y extrae los códigos postales y las poblaciones asociadas a cada código postal (puede haber varias)\n",
    "  + Si de esos tres primeros caracteres hay tres números (NNN) o dos números y una letra que no sea x (p.e. NNa), quiere decir que el fichero asociado contiene los códigos postales de poblaciones grandes, con más de un código postal. En este caso, la información aparece desglosada por todas las calles que tienen cada uno de los códigos postales, con lo que cada código postal aparece multitud de veces. Descartando la información de las calles, recopila todos los códigos postales distintos que haya en esos ficheros y asócialos a la ciudad y provincia corresondientes"
   ]
  },
  {
   "cell_type": "code",
   "execution_count": null,
   "metadata": {},
   "outputs": [],
   "source": []
  },
  {
   "cell_type": "markdown",
   "metadata": {},
   "source": [
    "**12. Acabas de comenzar a trabajar en el INE, y tu primera labor es recopilar la información que te proporcionan distintas autoridades locales para presentársela a tu jefe. La Agrupación de Municipios de España te ha proporcionado una lista de códigos postales y las poblaciones a las que pertenecen, aunque no te aseguran que esté actualizada y pueden faltar códigos postales. La Policía Nacional te ha proporcionado una lista de la cantidad de robos que se han producido en distintas poblaciones, asociados también a códigos postales. Si no se han producido robos, el código postal no aparece. La Guardia Civil te ha proporcionado una lista con la cantidad de incautaciones de drogas junto con el nombre de la población en el que se han producido. La Federación de Policías Municipales de España te ha enviado una lista con el número de infracciones que se han sancionado agrupadas también por poblaciones, y la Coordinadora de Cuerpos de Bomberos Nacional ha proporcionado el número de incendios sofocados, agrupados por código postal. Sabiendo que no todas las poblaciones y códigos postales tienen por qué aparecer en cada uno de los ficheros, escribe un programa que lea toda esta información, la agrupe de la manera más conveniente y la presente de manera ordenada.**  \n",
    "Antes de comenzar a resolver el ejercicio, puedes hacerte pequeños programas que te generen la información que necesitas para probar el ejercicio."
   ]
  },
  {
   "cell_type": "code",
   "execution_count": null,
   "metadata": {},
   "outputs": [],
   "source": []
  },
  {
   "cell_type": "markdown",
   "metadata": {},
   "source": [
    "**13. Nuestra ciudad cuenta con un sistema de semáforos equipados con radares que, cuando un coche se los salta en rojo, anotan la matrícula del coche, la fecha, la hora y el identificador del semáforo en el que se produjo la infracción. Escribe un programa que lea un fichero con esa información y la introduzca en un diccionario. Después debe leer una matrícula y devolver una lista de las infracciones cometidas por ese vehículo, ordenada por fecha y hora. A continuación, debe leer un identificador de semáforo y devolver todas las infracciones que ha registrado ordenadas por matrícula**  \n",
    "Al igual que en el ejercicio anterior, puedes escribir pequeños programas que te ayuden a generar los ficheros con la información que necesitas"
   ]
  },
  {
   "cell_type": "code",
   "execution_count": 1,
   "metadata": {},
   "outputs": [
    {
     "name": "stdout",
     "output_type": "stream",
     "text": [
      "Matrícula: 7582jcw\n",
      "Fecha: 25 10 2020\n",
      "Hora: 8 45 63\n"
     ]
    }
   ],
   "source": [
    "from datetime import date\n",
    "from datetime import datetime\n",
    "\n",
    "\n",
    "\n",
    "matricula=[input(\"Matrícula: \")]\n",
    "fecha=[input(\"Fecha: \".format(\"%m/%d/%y\"))]\n",
    "\n",
    "hora=[input(\"Hora: \".format(\"%h:%m:%s\"))]\n",
    "\n",
    "dia_hora=dict(zip(fecha,hora))\n",
    "diccionario=dict(zip(matricula,dia_hora))\n",
    "\n"
   ]
  },
  {
   "cell_type": "code",
   "execution_count": null,
   "metadata": {},
   "outputs": [],
   "source": []
  }
 ],
 "metadata": {
  "kernelspec": {
   "display_name": "Python 3",
   "language": "python",
   "name": "python3"
  },
  "language_info": {
   "codemirror_mode": {
    "name": "ipython",
    "version": 3
   },
   "file_extension": ".py",
   "mimetype": "text/x-python",
   "name": "python",
   "nbconvert_exporter": "python",
   "pygments_lexer": "ipython3",
   "version": "3.6.9"
  }
 },
 "nbformat": 4,
 "nbformat_minor": 4
}
