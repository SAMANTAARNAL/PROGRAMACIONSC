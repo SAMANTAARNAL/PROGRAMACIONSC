{
 "cells": [
  {
   "cell_type": "markdown",
   "metadata": {},
   "source": [
    "# CLASE MIÉRCOLES 18\n",
    "### ESTRUCTURAS DE CONTROL :O"
   ]
  },
  {
   "cell_type": "code",
   "execution_count": 1,
   "metadata": {},
   "outputs": [
    {
     "name": "stdout",
     "output_type": "stream",
     "text": [
      "Escribe tu nombre: ASDF\n",
      "Hasta luego, MariCarmen\n"
     ]
    }
   ],
   "source": [
    "nombre = input(\"Escribe tu nombre: \")\n",
    "if nombre==\"Luis\":\n",
    "    print(\"Hola \" + nombre)\n",
    "    print(\"¿Qué tal estás?\")\n",
    "    \n",
    "print(\"Hasta luego, MariCarmen\")\n"
   ]
  },
  {
   "cell_type": "code",
   "execution_count": 2,
   "metadata": {},
   "outputs": [
    {
     "name": "stdout",
     "output_type": "stream",
     "text": [
      "Escribe tu nombre: ASDSDF\n",
      "Hasta luego, MariCarmen\n"
     ]
    }
   ],
   "source": [
    "nombre = input(\"Escribe tu nombre: \")\n",
    "if nombre==\"Luis\":\n",
    "    print(\"Hola \" + nombre)\n",
    "    print(\"¿Qué tal estás?\")\n",
    "    \n",
    "print(\"Hasta luego, MariCarmen\")\n"
   ]
  },
  {
   "cell_type": "code",
   "execution_count": 3,
   "metadata": {},
   "outputs": [
    {
     "name": "stdout",
     "output_type": "stream",
     "text": [
      "Escribe tu nombre: ASDSE\n",
      "Tú me caes bien\n"
     ]
    }
   ],
   "source": [
    "nombre = input(\"Escribe tu nombre: \")\n",
    "if nombre==\"Luis\":\n",
    "    print(\"Hola \" + nombre)\n",
    "    print(\"¿Qué tal estás?\")\n",
    "    print(\"Hasta luego, MariCarmen\")\n",
    "    \n",
    "##elif ##añadir otro if\n",
    "elif nombre==\"Paco\" or nombre==\"Juan\":\n",
    "    print(\"Los que se llaman \"+nombre+ \" no me caen bien los pinches wey\")\n",
    "    \n",
    "##else ##en cualquier otro caso que no sea if, se hará otra cosa distinta\n",
    "else:\n",
    "    print(\"Tú me caes bien\")\n"
   ]
  },
  {
   "cell_type": "code",
   "execution_count": 5,
   "metadata": {},
   "outputs": [
    {
     "name": "stdout",
     "output_type": "stream",
     "text": [
      "Dime un número: g\n",
      "ERROR FATAL: NO ES UN NÚMERO!\n"
     ]
    }
   ],
   "source": [
    "numero=input(\"Dime un número: \")\n",
    "if numero.isdigit():\n",
    "    numero2=eval(numero)\n",
    "    print(numero)\n",
    "    if numero2%2==0:\n",
    "        print(\"Es par\")\n",
    "    else:\n",
    "        print(\"Es impar\")\n",
    "else:\n",
    "    print(\"ERROR FATAL: NO ES UN NÚMERO!\")\n",
    "    "
   ]
  },
  {
   "cell_type": "markdown",
   "metadata": {},
   "source": [
    "###  EN BUCLE: WHILE....: Cuando se cumple una condición, se repite el bucle/instrucciones"
   ]
  },
  {
   "cell_type": "code",
   "execution_count": 8,
   "metadata": {},
   "outputs": [
    {
     "name": "stdout",
     "output_type": "stream",
     "text": [
      "1\n",
      "2\n",
      "3\n",
      "4\n",
      "5\n",
      "6\n",
      "7\n",
      "8\n",
      "9\n",
      "10\n"
     ]
    }
   ],
   "source": [
    "a=1\n",
    "while a <=10:\n",
    "    print(a)\n",
    "    a=a+1\n",
    "#### se pone primero el print de (a) porque así sale primero el 1, si no saldría sin el 1\n",
    "### se cambia la variable porque forzamos que vaya cambiando a medida que se van imprimiendo con el a=a+1"
   ]
  },
  {
   "cell_type": "code",
   "execution_count": 17,
   "metadata": {
    "scrolled": true
   },
   "outputs": [
    {
     "name": "stdout",
     "output_type": "stream",
     "text": [
      "Dime el dividendo: 68\n",
      "Dime el divisor: 8\n",
      "cociente:  8\n",
      "resto:  4\n"
     ]
    }
   ],
   "source": [
    "dividendo=eval(input(\"Dime el dividendo: \"))\n",
    "divisor=eval(input(\"Dime el divisor: \"))\n",
    "cociente=0\n",
    "\n",
    "while dividendo>=divisor:\n",
    "    cociente=cociente+1\n",
    "    dividendo=dividendo-divisor\n",
    "    \n",
    "print(\"cociente: \", cociente)\n",
    "print(\"resto: \", dividendo)\n"
   ]
  },
  {
   "cell_type": "markdown",
   "metadata": {},
   "source": [
    "2^x= 2*2^(x-1)"
   ]
  },
  {
   "cell_type": "code",
   "execution_count": null,
   "metadata": {},
   "outputs": [],
   "source": [
    "potencia=eval(input(\"Dime la potencia (2^x): \"))\n",
    "pot=1\n",
    "\n",
    "while potencia>0:\n",
    "    pot=pot*2\n",
    "    potencia=potencia-1\n",
    "\n",
    "    \n",
    "## DE NORMAL, PRINT HARÁ SALTO DE LÍNEA PARA CADA RESULTADO. PARA QUE HAGA ESPACIO O LO QUE SE QUIERA, SE PONE END=\"LOQUESEA\"\n",
    "    print(pot,end=\" \")"
   ]
  },
  {
   "cell_type": "markdown",
   "metadata": {},
   "source": [
    "COMBINACIÓN DE WHILE E IF: PROGRAMA QUE IMPRIMA LOS NÚMEROS PRIMOS"
   ]
  },
  {
   "cell_type": "code",
   "execution_count": 38,
   "metadata": {
    "scrolled": false
   },
   "outputs": [
    {
     "name": "stdout",
     "output_type": "stream",
     "text": [
      "Dime un número: 58\n",
      "1 2 3 5 7 11 13 17 19 23 29 31 37 41 43 47 53 "
     ]
    }
   ],
   "source": [
    "## NÚMEROS PRIMOS: SON AQUELLOS QUE SOLO PUEDEN DIVIDIRSE POR ÉL MISMO Y POR 1\n",
    "limite=eval(input(\"Dime un número: \"))\n",
    "primo=1\n",
    "\n",
    "## genero los candidatos a número primo\n",
    "while primo<limite: \n",
    "    divisor=2\n",
    "    \n",
    "## compruebo su el candidato es primo\n",
    "    while (divisor<primo) and (primo%divisor!=0):\n",
    "       divisor=divisor+1\n",
    "    if divisor>=primo:\n",
    "        print(primo,end=\" \")\n",
    "        \n",
    "    primo=primo+1\n",
    "    "
   ]
  },
  {
   "cell_type": "code",
   "execution_count": null,
   "metadata": {},
   "outputs": [],
   "source": []
  },
  {
   "cell_type": "code",
   "execution_count": null,
   "metadata": {},
   "outputs": [],
   "source": []
  }
 ],
 "metadata": {
  "kernelspec": {
   "display_name": "Python 3",
   "language": "python",
   "name": "python3"
  },
  "language_info": {
   "codemirror_mode": {
    "name": "ipython",
    "version": 3
   },
   "file_extension": ".py",
   "mimetype": "text/x-python",
   "name": "python",
   "nbconvert_exporter": "python",
   "pygments_lexer": "ipython3",
   "version": "3.8.3"
  }
 },
 "nbformat": 4,
 "nbformat_minor": 4
}
