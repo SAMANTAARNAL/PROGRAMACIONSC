{
 "cells": [
  {
   "cell_type": "code",
   "execution_count": 9,
   "metadata": {},
   "outputs": [
    {
     "name": "stdout",
     "output_type": "stream",
     "text": [
      "Array= [2.3 1.8 3.7 8.2 1.9 1.8]\n",
      "[[2.3 1.8 3.7 8.2 1.9 1.8]\n",
      " [8.5 7.5 9.2 2.9 6.8 8.5]]\n",
      "12\n",
      "(2, 6)\n",
      "float64\n",
      "[[[ 1  2  3]\n",
      "  [ 4  5  6]]\n",
      "\n",
      " [[ 7  8  9]\n",
      "  [10 11 12]]]\n",
      "[0 1 2 3 4 5 6 7 8 9]\n"
     ]
    }
   ],
   "source": [
    "##ARRAYS: es una clase de objetos/secuencia de objetos que permite usar tablas, en las cuales todos los elementos son del\n",
    "## mismo tipo\n",
    "\n",
    "## NUMPY: base del ecosistema numérico en Python, es una librería para tratamiento de datos\n",
    "\n",
    "import numpy as np\n",
    "\n",
    "altura=[2.3,1.8,3.7,8.2,1.9,1.8]\n",
    "anchura=[8.5,7.5,9.2,2.9,6.8,8.5]\n",
    "## hay que tener cuidado en que las listas sean de la misma longitud!!!!!!=>COMPATIBILIDAD\n",
    "\n",
    "\n",
    "v_altura=np.array(altura)\n",
    "v_anchura=np.array(anchura)\n",
    "\n",
    "print(\"Array=\",v_altura)\n",
    "\n",
    "\n",
    "## crear una matriz: juntar ambas dimensiones\n",
    "dimensiones=np.array([altura,anchura])\n",
    "print(dimensiones)\n",
    "print(dimensiones.size) #numero de elementos\n",
    "print(dimensiones.shape) #forma\n",
    "print(dimensiones.dtype) #tipo del elemento\n",
    "\n",
    "arr3d=np.array([[[1,2,3],[4,5,6]],[[7,8,9],[10,11,12]]])\n",
    "print(arr3d) ##mirar video porque es una movida (17:10h)\n",
    "\n",
    "\n",
    "arr3d=np.array(np.arange(10))\n",
    "print(arr3d)"
   ]
  },
  {
   "cell_type": "code",
   "execution_count": 20,
   "metadata": {},
   "outputs": [
    {
     "name": "stdout",
     "output_type": "stream",
     "text": [
      "[0 0 0 0 0]\n",
      "[[1. 1. 1. 1. 1.]\n",
      " [1. 1. 1. 1. 1.]]\n",
      "[[[ 1  2  3]\n",
      "  [ 4  5  6]]\n",
      "\n",
      " [[ 7  8  9]\n",
      "  [10 11 12]]]\n",
      "[[0. 0. 0. 0. 0.]\n",
      " [0. 0. 0. 0. 0.]]\n",
      "[ 1.   1.5  2.   2.5  3.   3.5  4.   4.5  5.   5.5  6.   6.5  7.   7.5\n",
      "  8.   8.5  9.   9.5 10.  10.5]\n",
      "[  0.          11.11111111  22.22222222  33.33333333  44.44444444\n",
      "  55.55555556  66.66666667  77.77777778  88.88888889 100.        ]\n",
      "[  0.          22.22222222  44.44444444  66.66666667  88.88888889\n",
      " 111.11111111 133.33333333 155.55555556 177.77777778 200.        ]\n",
      "[  1.           1.5          2.           2.5          3.\n",
      "   3.5          4.           4.5          5.           5.5\n",
      "   6.           6.5          7.           7.5          8.\n",
      "   8.5          9.           9.5         10.          10.5\n",
      "   0.          11.11111111  22.22222222  33.33333333  44.44444444\n",
      "  55.55555556  66.66666667  77.77777778  88.88888889 100.\n",
      "   0.          22.22222222  44.44444444  66.66666667  88.88888889\n",
      " 111.11111111 133.33333333 155.55555556 177.77777778 200.        ]\n",
      "[  0.           0.           1.           1.5          2.\n",
      "   2.5          3.           3.5          4.           4.5\n",
      "   5.           5.5          6.           6.5          7.\n",
      "   7.5          8.           8.5          9.           9.5\n",
      "  10.          10.5         11.11111111  22.22222222  22.22222222\n",
      "  33.33333333  44.44444444  44.44444444  55.55555556  66.66666667\n",
      "  66.66666667  77.77777778  88.88888889  88.88888889 100.\n",
      " 111.11111111 133.33333333 155.55555556 177.77777778 200.        ]\n"
     ]
    }
   ],
   "source": [
    "vectorceros=np.zeros(5,dtype=np.int32)\n",
    "print(vectorceros)\n",
    "\n",
    "matrizunos=np.ones((2,5))\n",
    "print(matrizunos)\n",
    "\n",
    "cualquiercosa=np.empty((2,2,3),dtype=np.int32)\n",
    "print(cualquiercosa)\n",
    "\n",
    "matrizceros=np.zeros_like(matrizunos)\n",
    "print(matrizceros)\n",
    "\n",
    "vectorsecuencia=np.arange(1,11,0.5)\n",
    "print(vectorsecuencia)\n",
    "\n",
    "vectorlineal1=np.linspace(0,100,10)\n",
    "print(vectorlineal1)\n",
    "vectorlineal2=np.linspace(0,200,10)\n",
    "print(vectorlineal2)\n",
    "\n",
    "concatenado=np.concatenate((vectorsecuencia,vectorlineal1,vectorlineal2))\n",
    "print(concatenado)\n",
    "\n",
    "concatenado.sort()\n",
    "print(concatenado)"
   ]
  },
  {
   "cell_type": "code",
   "execution_count": 23,
   "metadata": {},
   "outputs": [
    {
     "name": "stdout",
     "output_type": "stream",
     "text": [
      "[0 1 2 3 4 5 6 7 8 9]\n",
      "[ 5  6  7  8  9 10 11 12 13 14]\n",
      "[ 5  7  9 11 13 15 17 19 21 23]\n",
      "[-5 -5 -5 -5 -5 -5 -5 -5 -5 -5]\n",
      "[  0   6  14  24  36  50  66  84 104 126]\n",
      "[0.         0.16666667 0.28571429 0.375      0.44444444 0.5\n",
      " 0.54545455 0.58333333 0.61538462 0.64285714]\n"
     ]
    }
   ],
   "source": [
    "v1=np.arange(10)\n",
    "v2=np.arange(5,15)\n",
    "\n",
    "print(v1)\n",
    "print(v2)\n",
    "\n",
    "print(v1+v2)\n",
    "print(v1-v2)\n",
    "print(v1*v2)\n",
    "print(v1/v2)"
   ]
  },
  {
   "cell_type": "code",
   "execution_count": null,
   "metadata": {},
   "outputs": [],
   "source": [
    "## https://www.google.com/search?q=python+data+analysis+pdf&rlz=1C1GCEU_esES929ES929&source=lnms&tbm=isch&sa=X&ved=2ahUKEwjwkcbqn57tAhWPERQKHdg0AxcQ_AUoAXoECAkQAw&biw=1920&bih=969#imgrc=N6HcJ8rD74jPzM\n",
    "\n",
    "import matplotlib.pyplot as plt\n",
    "points=np.arange(-5,5,0.01)\n",
    "xs,yx=np.meshgrid(points,points) ...\n"
   ]
  },
  {
   "cell_type": "code",
   "execution_count": 29,
   "metadata": {},
   "outputs": [
    {
     "name": "stdout",
     "output_type": "stream",
     "text": [
      "[  0   1   8  27  64 125 216 343 512 729]\n",
      "64\n",
      "[ 8 27 64]\n",
      "[  8  27  64 125 216 343 512 729]\n",
      "[  0   1   8  27  64 125 216]\n",
      "[ 8 27 64]\n",
      "[0 0 0]\n",
      "[  0   1   8  27  64 125 216 343 512 729]\n"
     ]
    }
   ],
   "source": [
    "a=np.arange(10)**3\n",
    "print(a)\n",
    "\n",
    "print(a[4])\n",
    "\n",
    "#print(a[10])#error\n",
    "print(a[2:5])\n",
    "print(a[2:])\n",
    "print(a[:7])\n",
    "\n",
    "b=a[2:5].copy()\n",
    "print(b)\n",
    "\n",
    "b[::]=0 \n",
    "print(b)\n",
    "\n",
    "print(a)"
   ]
  },
  {
   "cell_type": "code",
   "execution_count": 32,
   "metadata": {},
   "outputs": [
    {
     "name": "stdout",
     "output_type": "stream",
     "text": [
      "[[-3 -2 -1  0  1]\n",
      " [ 0  1  2  3  4]\n",
      " [ 6  7  8  9 10]\n",
      " [ 9  9  3  2  0]]\n",
      "\n",
      "[0 1 2 3 4]\n",
      "3\n",
      "3\n",
      "[[-2 -1]\n",
      " [ 1  2]\n",
      " [ 7  8]]\n"
     ]
    }
   ],
   "source": [
    "array2d=np.array([np.arange(-3,2),np.arange(5),np.arange(6,11),np.random.randint(10,size=5)])\n",
    "print(array2d)\n",
    "print()\n",
    "\n",
    "print(array2d[1])\n",
    "print(array2d[1][3])\n",
    "print(array2d[1,3])\n",
    "print(array2d[:3,1:3])"
   ]
  },
  {
   "cell_type": "code",
   "execution_count": 3,
   "metadata": {},
   "outputs": [
    {
     "name": "stdout",
     "output_type": "stream",
     "text": [
      "['Bob' 'Joe' 'Will' 'Bob' 'Joe' 'Joe' 'Will']\n",
      "[[-98   3  47 -31]\n",
      " [-67 -82  70  21]\n",
      " [-50 -98 -68  11]\n",
      " [ 86  52  71 -15]\n",
      " [ 18  12  23 -81]\n",
      " [-38  80  85  38]\n",
      " [-14 -44 -46  30]]\n",
      "[False  True False False  True  True False]\n",
      "[[-67 -82  70  21]\n",
      " [ 18  12  23 -81]\n",
      " [-38  80  85  38]]\n"
     ]
    }
   ],
   "source": [
    "import numpy as np\n",
    "names=np.array([\"Bob\",\"Joe\",\"Will\",\"Bob\",\"Joe\",\"Joe\",\"Will\"])\n",
    "data=np.random.randint(-100,100,size=(7,4))\n",
    "\n",
    "print(names)\n",
    "print(data)\n",
    "print(names==\"Joe\")\n",
    "print(data[names==\"Joe\"])"
   ]
  },
  {
   "cell_type": "code",
   "execution_count": 9,
   "metadata": {},
   "outputs": [
    {
     "name": "stdout",
     "output_type": "stream",
     "text": [
      "[[-98.   3.  47. -31.]\n",
      " [-67. -82.  70.  21.]\n",
      " [-50. -98. -68.  11.]\n",
      " [ 86.  52.  71. -15.]\n",
      " [ 18.  12.  23. -81.]\n",
      " [-38.  80.  85.  38.]\n",
      " [-14. -44. -46.  30.]]\n",
      "[[-98   3  47 -31]\n",
      " [-67 -82  70  21]\n",
      " [-50 -98 -68  11]\n",
      " [ 86  52  71 -15]\n",
      " [ 18  12  23 -81]\n",
      " [-38  80  85  38]\n",
      " [-14 -44 -46  30]]\n"
     ]
    }
   ],
   "source": [
    "np.savetxt(\"data_en_texto.txt\",data,delimiter=\",\")\n",
    "\n",
    "otro=np.loadtxt(\"data_en_texto.txt\",delimiter=\",\")\n",
    "print(otro)\n",
    "\n",
    "np.save(\"array_b\",data)\n",
    "otro_binario=np.load(\"array_b.npy\")\n",
    "print(otro_binario)"
   ]
  },
  {
   "cell_type": "code",
   "execution_count": 11,
   "metadata": {},
   "outputs": [
    {
     "name": "stdout",
     "output_type": "stream",
     "text": [
      "[  0.  10.  20.  30.  40.  50.  60.  70.  80.  90. 100.]\n"
     ]
    },
    {
     "data": {
      "image/png": "[encoded data removed]",
      "text/plain": [
       "<Figure size 432x288 with 1 Axes>"
      ]
     },
     "metadata": {
      "needs_background": "light"
     },
     "output_type": "display_data"
    }
   ],
   "source": [
    "####HACER GRÁFICAS: PASOS A SEGUIR\n",
    "#1.se generan los datos=secuencias como np.arrays\n",
    "#2.se crea el gráfico con la funcion plot()\n",
    "#3.decoración y conf.grafico\n",
    "#4.mostrar gráfico\n",
    "\n",
    "import matplotlib.pyplot as plt\n",
    "\n",
    "x=np.linspace(0,100,11)\n",
    "print(x)\n",
    "plt.plot(x)\n",
    "plt.show()\n",
    "\n"
   ]
  },
  {
   "cell_type": "code",
   "execution_count": null,
   "metadata": {},
   "outputs": [],
   "source": []
  },
  {
   "cell_type": "code",
   "execution_count": null,
   "metadata": {},
   "outputs": [],
   "source": []
  }
 ],
 "metadata": {
  "kernelspec": {
   "display_name": "Python 3",
   "language": "python",
   "name": "python3"
  },
  "language_info": {
   "codemirror_mode": {
    "name": "ipython",
    "version": 3
   },
   "file_extension": ".py",
   "mimetype": "text/x-python",
   "name": "python",
   "nbconvert_exporter": "python",
   "pygments_lexer": "ipython3",
   "version": "3.8.3"
  }
 },
 "nbformat": 4,
 "nbformat_minor": 4
}
