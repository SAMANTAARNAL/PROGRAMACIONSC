{
 "cells": [
  {
   "cell_type": "code",
   "execution_count": 1,
   "metadata": {},
   "outputs": [
    {
     "name": "stdout",
     "output_type": "stream",
     "text": [
      "08080 Barcelona\n",
      "09045 Badajoz\n",
      "10368 Jerez\n",
      "28002 Madrid\n",
      "28027 Madrid\n",
      "28029 Alcorcón\n",
      "28040 Madrid\n",
      "40123 Orense\n",
      "\n",
      "28029 Alcorcón\n",
      "09045 Badajoz\n",
      "08080 Barcelona\n",
      "10368 Jerez\n",
      "28040 Madrid\n",
      "28002 Madrid\n",
      "28027 Madrid\n",
      "40123 Orense\n",
      "28040\n",
      "40123\n",
      "08080\n",
      "09045\n",
      "28002\n",
      "10368\n",
      "28029\n",
      "28027\n",
      "28029 Alcorcón\n",
      "09045 Badajoz\n",
      "08080 Barcelona\n",
      "10368 Jerez\n",
      "28002 Madrid\n",
      "28027 Madrid\n",
      "28040 Madrid\n",
      "40123 Orense\n",
      "[('Alcorcón', '28029'), ('Badajoz', '09045'), ('Barcelona', '08080'), ('Jerez', '10368'), ('Madrid', '28002'), ('Madrid', '28027'), ('Madrid', '28040'), ('Orense', '40123')]\n"
     ]
    }
   ],
   "source": [
    "diccionario_ciudades={}\n",
    "diccionario_ciudades={\"28040\":\"Madrid\",\"40123\":\"Orense\",\"08080\":\"Barcelona\",\"09045\":\"Badajoz\",\"28002\":\"Madrid\",\"10368\":\"Jerez\",\"28029\":\"Alcorcón\",\"28027\":\"Madrid\"}\n",
    "\n",
    "for k in sorted(diccionario_ciudades):\n",
    "    print(k,diccionario_ciudades[k])\n",
    "print()\n",
    "\n",
    "for w in sorted(diccionario_ciudades, key=diccionario_ciudades.get):\n",
    "    print(w,diccionario_ciudades[w])\n",
    "    \n",
    "## PARA DAR LA VUELTA AL DICCIONARIO\n",
    "for e in diccionario_ciudades:\n",
    "    print(e)\n",
    "    \n",
    "lista_ciudades=[]\n",
    "for e in diccionario_ciudades:\n",
    "    lista_ciudades.append((diccionario_ciudades.get(e),e))\n",
    "    \n",
    "for ciudad in sorted(lista_ciudades):\n",
    "    print(ciudad[1],ciudad[0])\n",
    "    \n",
    "print(sorted(lista_ciudades)) ##es hacer lo mismo que los dos pasos previos"
   ]
  },
  {
   "cell_type": "code",
   "execution_count": 2,
   "metadata": {},
   "outputs": [
    {
     "name": "stdout",
     "output_type": "stream",
     "text": [
      "dict_keys(['28040', '40123', '08080', '09045', '28002', '10368', '28029', '28027'])\n",
      "dict_values(['Madrid', 'Orense', 'Barcelona', 'Badajoz', 'Madrid', 'Jerez', 'Alcorcón', 'Madrid'])\n",
      "{'Madrid': '28027', 'Orense': '40123', 'Barcelona': '08080', 'Badajoz': '09045', 'Jerez': '10368', 'Alcorcón': '28029'}\n"
     ]
    }
   ],
   "source": [
    "codigos_postales=diccionario_ciudades.keys()   #se queda con los códigos postales solo\n",
    "print(codigos_postales)\n",
    "\n",
    "ciudades=diccionario_ciudades.values()  #se queda con sólo las ciudades\n",
    "print(ciudades)\n",
    "\n",
    "nuevo_diccionario_ciudades=dict(zip(ciudades,codigos_postales))   #se han unido ambas listas, pero se ha reescrito el valor Madrid \n",
    "#al haber varios\n",
    "print(nuevo_diccionario_ciudades)"
   ]
  },
  {
   "cell_type": "code",
   "execution_count": 3,
   "metadata": {},
   "outputs": [
    {
     "name": "stdout",
     "output_type": "stream",
     "text": [
      "[1, 4, 9, 16, 25, 36, 49, 64, 81, 100]\n"
     ]
    }
   ],
   "source": [
    "cuadrados=[i**2 for i in range (1,11)]\n",
    "print(cuadrados)\n",
    "\n",
    "fichero=open(\"numeros.txt\",\"w\")\n",
    "for n in cuadrados:\n",
    "    fichero.write(str(n)+\"\\n\")\n",
    "    \n",
    "fichero.close()\n",
    "#mega importante cerrar: cuando escribimos en el fichero, no se escribe directamente porque es \\n\n",
    "#lenta. Para agilizarlo, se escribe en un buffer que no se vuelca hasta que no se cierra el fichero!!\n"
   ]
  },
  {
   "cell_type": "code",
   "execution_count": 4,
   "metadata": {},
   "outputs": [
    {
     "name": "stdout",
     "output_type": "stream",
     "text": [
      "1\n",
      "4\n",
      "9\n",
      "16\n",
      "25\n",
      "36\n",
      "49\n",
      "64\n",
      "81\n",
      "100\n",
      "\n"
     ]
    }
   ],
   "source": [
    "fichero=open(\"numeros.txt\",\"r\")\n",
    "\n",
    "print(fichero.read())\n",
    "\n",
    "fichero.close()"
   ]
  },
  {
   "cell_type": "code",
   "execution_count": 5,
   "metadata": {},
   "outputs": [
    {
     "name": "stdout",
     "output_type": "stream",
     "text": [
      "1 4 9 16 25 36 49 64 81 100 \n"
     ]
    }
   ],
   "source": [
    "fichero=open(\"numeros.txt\",\"r\")\n",
    "linea=fichero.readline().strip()\n",
    "    \n",
    "while linea:\n",
    "    print(linea,end=\" \")\n",
    "    linea=fichero.readline().strip()\n",
    "    \n",
    "print()\n",
    "\n",
    "fichero.close()"
   ]
  },
  {
   "cell_type": "code",
   "execution_count": 6,
   "metadata": {},
   "outputs": [
    {
     "name": "stdout",
     "output_type": "stream",
     "text": [
      "Dame la ruta del fichero: 45\n",
      "Todo OK\n"
     ]
    }
   ],
   "source": [
    "## EXCEPCIONES: ERRORES\n",
    "\n",
    "path=input(\"Dame la ruta del fichero: \")\n",
    "try:\n",
    "    fichero=open(path,\"w\")\n",
    "    fichero.write(\"Intento de escritura en un fichero\")\n",
    "except IOError:\n",
    "        print(\"Error al intentar escribir en el fichero\")\n",
    "        \n",
    "else:\n",
    "        print(\"Todo OK\")\n",
    "\n",
    "        fichero.close()"
   ]
  },
  {
   "cell_type": "code",
   "execution_count": 7,
   "metadata": {},
   "outputs": [
    {
     "name": "stdout",
     "output_type": "stream",
     "text": [
      "Dame la ruta del fichero: 45\n",
      "Todo OK\n"
     ]
    }
   ],
   "source": [
    "## crear excepciones\n",
    "\n",
    "path=input(\"Dame la ruta del fichero: \")\n",
    "try:\n",
    "    fichero=open(path,\"w\")\n",
    "    fichero.write(\"Intento de escritura en un fichero\")\n",
    "except IOError:\n",
    "        print(\"Error al intentar escribir en el fichero\")\n",
    "        raise \"ERROR FATAL\"\n",
    "        \n",
    "else:\n",
    "        print(\"Todo OK\")\n",
    "\n",
    "        fichero.close()"
   ]
  },
  {
   "cell_type": "code",
   "execution_count": null,
   "metadata": {},
   "outputs": [],
   "source": []
  },
  {
   "cell_type": "markdown",
   "metadata": {},
   "source": [
    "### FUNCIONES"
   ]
  },
  {
   "cell_type": "code",
   "execution_count": 8,
   "metadata": {},
   "outputs": [
    {
     "name": "stdout",
     "output_type": "stream",
     "text": [
      "hola\n",
      "Hola,  Juan\n",
      "hola\n",
      "Hola,  Jorge\n"
     ]
    }
   ],
   "source": [
    "def hola():\n",
    "    print(\"hola\")\n",
    "    \n",
    "def saluda(nombre):\n",
    "    #funcion que imprime un saludo por pantalla\n",
    "    #nombre es un string con el nombre de la persona a la que saludamos\n",
    "    \n",
    "    print(\"Hola, \",nombre)\n",
    "    \n",
    "hola()\n",
    "saluda(\"Juan\")\n",
    "hola()\n",
    "saluda(\"Jorge\")"
   ]
  },
  {
   "cell_type": "code",
   "execution_count": 9,
   "metadata": {},
   "outputs": [
    {
     "name": "stdout",
     "output_type": "stream",
     "text": [
      "Dime un número 45\n",
      "Dime otro número 653\n",
      "El número mayor es  653\n",
      "Dime otro número 46\n",
      "El número mayor es  653 46\n"
     ]
    }
   ],
   "source": [
    "def max(n1,n2):\n",
    "    #max calcula el máximo de los dos números que se pasan como parámetro\n",
    "    if n1>n2:\n",
    "        return n1\n",
    "    else:\n",
    "        return n2\n",
    "    \n",
    "n1=eval(input(\"Dime un número \"))\n",
    "n2=eval(input(\"Dime otro número \"))  \n",
    "print(\"El número mayor es \",max(n1,n2))\n",
    "\n",
    "n3=eval(input(\"Dime otro número \"))\n",
    "print(\"El número mayor es \",max(n1,n2),n3)  \n",
    "#comparando a un tercero, se pone fuera del paréntesis el n3 porque en un inicio determinamos que eran 2 números\n",
    "\n"
   ]
  },
  {
   "cell_type": "code",
   "execution_count": 23,
   "metadata": {},
   "outputs": [
    {
     "name": "stdout",
     "output_type": "stream",
     "text": [
      "Dime un número 4\n",
      "Dime otro número 5\n",
      "Dime otro número 6\n",
      "El número mayor es  None\n"
     ]
    }
   ],
   "source": [
    "#para comparar 3 números:\n",
    "def max3(n1,n2,n3):\n",
    "    #max3 calcula el máximo de los tres números que se pasan como parámetro\n",
    "\n",
    "    n1=eval(input(\"Dime un número \"))\n",
    "    n2=eval(input(\"Dime otro número \"))  \n",
    "\n",
    "    n3=eval(input(\"Dime otro número \"))\n",
    "    \n",
    "print(\"El número mayor es \",max3(n1,n2,n3))"
   ]
  },
  {
   "cell_type": "code",
   "execution_count": 24,
   "metadata": {},
   "outputs": [
    {
     "name": "stdout",
     "output_type": "stream",
     "text": [
      "1 2 4 8 16 32 64 128 256 512 1024 \n"
     ]
    }
   ],
   "source": [
    "def pot2(n):\n",
    "    for i in range(n+1):\n",
    "        print(2**i, end=\" \")\n",
    "    print()\n",
    "    \n",
    "pot2(10)"
   ]
  },
  {
   "cell_type": "code",
   "execution_count": 25,
   "metadata": {},
   "outputs": [
    {
     "name": "stdout",
     "output_type": "stream",
     "text": [
      "3628800\n"
     ]
    }
   ],
   "source": [
    "## dentro de una función, podemos llamar a otras funciones\n",
    "\n",
    "##funciones recursivas: se llaman a sí mismas para hacer lo que tengan que hacer: por ejemplo, factoriales\n",
    "##llamada recursiva (cadena de llamadas), hasta un CASO BASE: se define 1 como caso base, es el límite. El 10 es n.\n",
    "\n",
    "def factorial(n):\n",
    "    if n<2:\n",
    "        return 1\n",
    "    return n*factorial(n-1)\n",
    "\n",
    "print(factorial(10))"
   ]
  },
  {
   "cell_type": "code",
   "execution_count": 35,
   "metadata": {},
   "outputs": [
    {
     "name": "stdout",
     "output_type": "stream",
     "text": [
      "[1, 2, 3, 4]\n",
      "[1, 2, 3, 4]\n",
      "[0, 0, 0]\n",
      "[1, 2, 3, 4]\n"
     ]
    }
   ],
   "source": [
    "##argumentos de funciones: referencias\n",
    "\n",
    "def cambia(li): \n",
    "    li.append(4)  ##incluye el 4\n",
    "    print(li)   ##\n",
    "    \n",
    "def nocambia(li):\n",
    "    li=[0,0,0]\n",
    "    print(li)\n",
    "    \n",
    "lista=[1,2,3]\n",
    "cambia(lista)\n",
    "print(lista)\n",
    "\n",
    "nocambia(lista)\n",
    "print(lista)\n"
   ]
  },
  {
   "cell_type": "code",
   "execution_count": 39,
   "metadata": {},
   "outputs": [
    {
     "name": "stdout",
     "output_type": "stream",
     "text": [
      "4 7\n",
      "7 4\n",
      "4 7\n",
      "7 4\n"
     ]
    }
   ],
   "source": [
    "def intercambia(n1,n2):      #para intercambiar 2 variables\n",
    "    print(n1,n2)\n",
    "    n1,n2=n2,n1\n",
    "    print(n1,n2)\n",
    "    \n",
    "n1=4\n",
    "n2=7\n",
    "    \n",
    "intercambia(n1,n2)\n",
    "print(n1,n2) ### no se cambia porque se ha hecho fuera de la función\n",
    "\n",
    "\n",
    "n1,n2=n2,n1\n",
    "print(n1,n2) #repetir el paso previo de la función para que salga\n"
   ]
  },
  {
   "cell_type": "code",
   "execution_count": 41,
   "metadata": {},
   "outputs": [
    {
     "name": "stdout",
     "output_type": "stream",
     "text": [
      "4 7 7 perro\n"
     ]
    }
   ],
   "source": [
    "def intercambia(n1,n2):\n",
    "    return n1,n2\n",
    "\n",
    "n1=4\n",
    "n2=7\n",
    "\n",
    "n1,n2=intercambia(n1,n2)\n",
    "print(n1,n2,7,\"perro\")"
   ]
  },
  {
   "cell_type": "code",
   "execution_count": null,
   "metadata": {},
   "outputs": [],
   "source": []
  }
 ],
 "metadata": {
  "kernelspec": {
   "display_name": "Python 3",
   "language": "python",
   "name": "python3"
  },
  "language_info": {
   "codemirror_mode": {
    "name": "ipython",
    "version": 3
   },
   "file_extension": ".py",
   "mimetype": "text/x-python",
   "name": "python",
   "nbconvert_exporter": "python",
   "pygments_lexer": "ipython3",
   "version": "3.8.3"
  }
 },
 "nbformat": 4,
 "nbformat_minor": 4
}
