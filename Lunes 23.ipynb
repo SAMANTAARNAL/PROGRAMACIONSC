{
 "cells": [
  {
   "cell_type": "code",
   "execution_count": 14,
   "metadata": {},
   "outputs": [
    {
     "name": "stdout",
     "output_type": "stream",
     "text": [
      "0 Nombre:  Pedro Pérez ,Salario:  50000\n",
      "Total de objetos Empleado 1\n",
      "1 Nombre:  Juan Gómez ,Salario:  25000\n",
      "Total de objetos Empleado 2\n",
      "Pedro Pérez\n",
      "Total de objetos Empleado 2\n"
     ]
    }
   ],
   "source": [
    "class Empleado (object):\n",
    "    \n",
    "    numEmpleados=0\n",
    "    \n",
    "    def __init__(self, nombre, salario):\n",
    "        self.nombre = nombre\n",
    "        self.salario = salario\n",
    "        self.id = Empleado.numEmpleados\n",
    "        Empleado.numEmpleados += 1\n",
    "        \n",
    "    def cuantosEmpleados(self):\n",
    "        print (\"Total de objetos Empleado %d\" % Empleado.numEmpleados)\n",
    "\n",
    "    def printEmpleado(self):\n",
    "        print (self.id,\"Nombre: \",self.nombre,\",Salario: \",self.salario)\n",
    "        \n",
    "empleado1=Empleado(\"Pedro Pérez\",50000)\n",
    "empleado1.printEmpleado()\n",
    "empleado1.cuantosEmpleados()\n",
    "empleado2=Empleado(\"Juan Gómez\",25000)\n",
    "empleado2.printEmpleado()\n",
    "empleado2.cuantosEmpleados()\n",
    "\n",
    "lista_empleados=[empleado1,empleado2]\n",
    "\n",
    "if hasattr(empleado1,\"nombre\"):\n",
    "    print(getattr(empleado1,\"nombre\"))\n",
    "\n",
    "empleado2.cuantosEmpleados()"
   ]
  },
  {
   "cell_type": "code",
   "execution_count": null,
   "metadata": {},
   "outputs": [],
   "source": []
  },
  {
   "cell_type": "code",
   "execution_count": null,
   "metadata": {},
   "outputs": [],
   "source": []
  }
 ],
 "metadata": {
  "kernelspec": {
   "display_name": "Python 3",
   "language": "python",
   "name": "python3"
  },
  "language_info": {
   "codemirror_mode": {
    "name": "ipython",
    "version": 3
   },
   "file_extension": ".py",
   "mimetype": "text/x-python",
   "name": "python",
   "nbconvert_exporter": "python",
   "pygments_lexer": "ipython3",
   "version": "3.8.3"
  }
 },
 "nbformat": 4,
 "nbformat_minor": 4
}
