{
 "cells": [
  {
   "cell_type": "markdown",
   "metadata": {},
   "source": [
    "# INTERFAZ GRÁFICA CON EL USUARIO= TKINTER"
   ]
  },
  {
   "cell_type": "code",
   "execution_count": 1,
   "metadata": {},
   "outputs": [],
   "source": [
    "import tkinter as tk  \n",
    "##lo de as tk es, como se va a llamar varias veces, simplificamos la llamada\n",
    "\n",
    "ventana_principal=tk.Tk()  ##como lo hemos denominado a tkinter, tk, se tiene que poner delante de la función, con .\n",
    "\n",
    "texto=tk.Label(ventana_principal,text=\"Para cerrar la ventana, pulsa la x en la pestaña superior\")  \n",
    "##el nombre de las clases siempre empezando en mayuscula\n",
    "texto.pack()  ##para juntar lo que tiene la ventana, si no lo hacemos la etiqueta creada no se mostraría ni se colocaría bien  \n",
    "##hemos creado la ventana, pero no la estamos mostrando, para mostrar función .mainloop(), ejecuta las ventanas\n",
    "\n",
    "ventana_principal.mainloop()"
   ]
  },
  {
   "cell_type": "code",
   "execution_count": 2,
   "metadata": {},
   "outputs": [],
   "source": [
    "import tkinter as tk  \n",
    "root=tk.Tk()   #es la principal, no se deben hacer más de este tipo. Si se cierra, se cierra todo el programa\n",
    "root.title(\"Principal\")\n",
    "\n",
    "top=tk.Toplevel()  #ventana principal pero no Tk, si se cierra esta se cierra el contenido pero no el programa entero\n",
    "top.title(\"Toplevel\")\n",
    "\n",
    "root.mainloop()   #si ejecutamos root, se ejecuta el programa entero, tb las ventanas asociadas."
   ]
  },
  {
   "cell_type": "code",
   "execution_count": 3,
   "metadata": {},
   "outputs": [],
   "source": [
    "import tkinter as tk  \n",
    "\n",
    "root=tk.Tk()\n",
    "panel=tk.PanedWindow(root) ##en el paréntesis hay que poner de dónde viene, dónde va a estar\n",
    "panel.pack(fill=tk.BOTH,expand=1)  ##para decirle que rellene tanto en vertical como en horizontal, y que \n",
    "##se expanda hasta rellenar toda la pantalla\n",
    "\n",
    "left=tk.Label(panel,text=\"Panel izquierdo\")\n",
    "panel.add(left)  ##decirle al panel que meta la etiqueta en el lado izquierdo\n",
    "\n",
    "\n",
    "panel_2=tk.PanedWindow(panel,orient=tk.VERTICAL) ##aquí es donde se determina que se separe en dos arriba y abajo, \n",
    "##porque siempre las ventanas se separan, pero por defecto suele hacerse izq-dcha\n",
    "panel.add(panel_2)\n",
    "\n",
    "top=tk.Label(panel_2,text=\"Panel superior\")\n",
    "panel_2.add(top)\n",
    "\n",
    "bottom=tk.Label(panel_2,text=\"Panel inferior\")\n",
    "panel_2.add(bottom)\n",
    "\n",
    "root.mainloop()"
   ]
  },
  {
   "cell_type": "code",
   "execution_count": 6,
   "metadata": {},
   "outputs": [],
   "source": [
    "import tkinter as tk  \n",
    "\n",
    "root=tk.Tk()\n",
    "\n",
    "#Widgets: imagen y texto\n",
    "\n",
    "logo=tk.PhotoImage(file=\"image.gif\")\n",
    "imagen=tk.Label(root,image=logo).pack(side=\"right\")\n",
    "\n",
    "frase=\"\"\"\"Ejemplo de uso de ventana con imagen y texto\"\"\"\n",
    "texto=tk.Label(root,justify=tk.LEFT,\n",
    "              padx=10,  ##El pad es para justificar y dejar espacios, está el eje x y el y. Así, el texto no se pega tanto al \n",
    "            #límite\n",
    "                text=frase).pack(side=\"left\")\n",
    "\n",
    "root.mainloop()"
   ]
  },
  {
   "cell_type": "code",
   "execution_count": 14,
   "metadata": {},
   "outputs": [],
   "source": [
    "import tkinter as tk  \n",
    "\n",
    "root=tk.Tk()\n",
    "\n",
    "texto=\"Do or do not. There is no try. \\n(Yoda)\"\n",
    "widget_msg=tk.Message(root,text=texto)\n",
    "widget_msg.config(bg=\"lightgreen\",fg=\"darkgreen\",font=(\"calibri\",30,\"italic\",),\n",
    "                  justify=tk.CENTER)\n",
    "widget_msg.pack()\n",
    "\n",
    "root.mainloop()"
   ]
  },
  {
   "cell_type": "code",
   "execution_count": 2,
   "metadata": {},
   "outputs": [],
   "source": [
    "import tkinter as tk  \n",
    "\n",
    "def slogan(): ##definicion de funcion slogan\n",
    "   widget_msg.config(text=\"Tkinter es fácil\")\n",
    "    \n",
    "\n",
    "\n",
    "root=tk.Tk()\n",
    "\n",
    "frame=tk.Frame(root)\n",
    "frame.pack()\n",
    "## el comando es una llamada a una función que hace algo, sin parámetros\n",
    "boton=tk.Button(frame,text=\"Quit\",fg=\"red\",command=root.destroy) ##root.destroy sale del programa\n",
    "boton.pack(side=tk.LEFT)\n",
    "\n",
    "slogan=tk.Button(frame,text=\"Eslogan\",fg=\"blue\",command=slogan)\n",
    "slogan.pack(side=tk.LEFT)\n",
    "\n",
    "texto=\"Do or do not. There is no try. \\n(Yoda)\"\n",
    "widget_msg=tk.Message(root,text=texto)\n",
    "widget_msg.config(bg=\"lightgreen\",fg=\"darkgreen\",font=(\"calibri\",30,\"italic\",),\n",
    "                  justify=tk.CENTER)\n",
    "widget_msg.pack()\n",
    "\n",
    "\n",
    "root.mainloop()"
   ]
  },
  {
   "cell_type": "code",
   "execution_count": 9,
   "metadata": {},
   "outputs": [
    {
     "ename": "TclError",
     "evalue": "can't invoke \"button\" command: application has been destroyed",
     "output_type": "error",
     "traceback": [
      "\u001b[1;31m---------------------------------------------------------------------------\u001b[0m",
      "\u001b[1;31mTclError\u001b[0m                                  Traceback (most recent call last)",
      "\u001b[1;32m<ipython-input-9-3558d8b76ea4>\u001b[0m in \u001b[0;36m<module>\u001b[1;34m\u001b[0m\n\u001b[0;32m     22\u001b[0m \u001b[1;33m\u001b[0m\u001b[0m\n\u001b[0;32m     23\u001b[0m \u001b[1;33m\u001b[0m\u001b[0m\n\u001b[1;32m---> 24\u001b[1;33m \u001b[0mboton1\u001b[0m\u001b[1;33m=\u001b[0m\u001b[0mtk\u001b[0m\u001b[1;33m.\u001b[0m\u001b[0mButton\u001b[0m\u001b[1;33m(\u001b[0m\u001b[0mframe\u001b[0m\u001b[1;33m,\u001b[0m\u001b[0mtext\u001b[0m\u001b[1;33m=\u001b[0m\u001b[1;34m\"askokcancel\"\u001b[0m\u001b[1;33m,\u001b[0m\u001b[0mcommand\u001b[0m\u001b[1;33m=\u001b[0m\u001b[0maskokcancel\u001b[0m\u001b[1;33m)\u001b[0m\u001b[1;33m\u001b[0m\u001b[1;33m\u001b[0m\u001b[0m\n\u001b[0m\u001b[0;32m     25\u001b[0m \u001b[0mboton1\u001b[0m\u001b[1;33m.\u001b[0m\u001b[0mpack\u001b[0m\u001b[1;33m(\u001b[0m\u001b[0mside\u001b[0m\u001b[1;33m=\u001b[0m\u001b[0mtk\u001b[0m\u001b[1;33m.\u001b[0m\u001b[0mLEFT\u001b[0m\u001b[1;33m)\u001b[0m\u001b[1;33m\u001b[0m\u001b[1;33m\u001b[0m\u001b[0m\n\u001b[0;32m     26\u001b[0m \u001b[1;33m\u001b[0m\u001b[0m\n",
      "\u001b[1;32mC:\\ProgramData\\Anaconda3\\lib\\tkinter\\__init__.py\u001b[0m in \u001b[0;36m__init__\u001b[1;34m(self, master, cnf, **kw)\u001b[0m\n\u001b[0;32m   2643\u001b[0m             \u001b[0moverrelief\u001b[0m\u001b[1;33m,\u001b[0m \u001b[0mstate\u001b[0m\u001b[1;33m,\u001b[0m \u001b[0mwidth\u001b[0m\u001b[1;33m\u001b[0m\u001b[1;33m\u001b[0m\u001b[0m\n\u001b[0;32m   2644\u001b[0m         \"\"\"\n\u001b[1;32m-> 2645\u001b[1;33m         \u001b[0mWidget\u001b[0m\u001b[1;33m.\u001b[0m\u001b[0m__init__\u001b[0m\u001b[1;33m(\u001b[0m\u001b[0mself\u001b[0m\u001b[1;33m,\u001b[0m \u001b[0mmaster\u001b[0m\u001b[1;33m,\u001b[0m \u001b[1;34m'button'\u001b[0m\u001b[1;33m,\u001b[0m \u001b[0mcnf\u001b[0m\u001b[1;33m,\u001b[0m \u001b[0mkw\u001b[0m\u001b[1;33m)\u001b[0m\u001b[1;33m\u001b[0m\u001b[1;33m\u001b[0m\u001b[0m\n\u001b[0m\u001b[0;32m   2646\u001b[0m \u001b[1;33m\u001b[0m\u001b[0m\n\u001b[0;32m   2647\u001b[0m     \u001b[1;32mdef\u001b[0m \u001b[0mflash\u001b[0m\u001b[1;33m(\u001b[0m\u001b[0mself\u001b[0m\u001b[1;33m)\u001b[0m\u001b[1;33m:\u001b[0m\u001b[1;33m\u001b[0m\u001b[1;33m\u001b[0m\u001b[0m\n",
      "\u001b[1;32mC:\\ProgramData\\Anaconda3\\lib\\tkinter\\__init__.py\u001b[0m in \u001b[0;36m__init__\u001b[1;34m(self, master, widgetName, cnf, kw, extra)\u001b[0m\n\u001b[0;32m   2565\u001b[0m         \u001b[1;32mfor\u001b[0m \u001b[0mk\u001b[0m\u001b[1;33m,\u001b[0m \u001b[0mv\u001b[0m \u001b[1;32min\u001b[0m \u001b[0mclasses\u001b[0m\u001b[1;33m:\u001b[0m\u001b[1;33m\u001b[0m\u001b[1;33m\u001b[0m\u001b[0m\n\u001b[0;32m   2566\u001b[0m             \u001b[1;32mdel\u001b[0m \u001b[0mcnf\u001b[0m\u001b[1;33m[\u001b[0m\u001b[0mk\u001b[0m\u001b[1;33m]\u001b[0m\u001b[1;33m\u001b[0m\u001b[1;33m\u001b[0m\u001b[0m\n\u001b[1;32m-> 2567\u001b[1;33m         self.tk.call(\n\u001b[0m\u001b[0;32m   2568\u001b[0m             (widgetName, self._w) + extra + self._options(cnf))\n\u001b[0;32m   2569\u001b[0m         \u001b[1;32mfor\u001b[0m \u001b[0mk\u001b[0m\u001b[1;33m,\u001b[0m \u001b[0mv\u001b[0m \u001b[1;32min\u001b[0m \u001b[0mclasses\u001b[0m\u001b[1;33m:\u001b[0m\u001b[1;33m\u001b[0m\u001b[1;33m\u001b[0m\u001b[0m\n",
      "\u001b[1;31mTclError\u001b[0m: can't invoke \"button\" command: application has been destroyed"
     ]
    }
   ],
   "source": [
    "import tkinter as tk  \n",
    "from tkinter import messagebox\n",
    "\n",
    "root=tk.Tk()\n",
    "\n",
    "\n",
    "def askokcancel():\n",
    "    answer=messagebox.askokcancel(\"Question\",\"Do u want to open this file?\")\n",
    "    print(answer)\n",
    "    \n",
    "def askquestion():\n",
    "    answer=messagebox.askquestion(\"Question\",\"Do u want to continue?\")\n",
    "    print(answer)\n",
    "    \n",
    "def askretrycancel():\n",
    "    answer=messagebox.askretrycancel(\"Question\",\"Do u want to try again?\")\n",
    "    print(answer)\n",
    "    \n",
    "def askyesno():\n",
    "    answer:messagebox.askyesno(\"Question\",\"Do y like playing?\")\n",
    "    print(answer)\n",
    "\n",
    "\n",
    "boton1=tk.Button(frame,text=\"askokcancel\",command=askokcancel)\n",
    "boton1.pack(side=tk.LEFT)\n",
    "\n",
    "boton2=tk.Button(frame,text=\"askquestion\",command=askquestion)\n",
    "boton2.pack(side=tk.LEFT)\n",
    "\n",
    "boton3=tk.Button(frame,text=\"askretrycancel\",command=askretrycancel)\n",
    "boton3.pack(side=tk.LEFT)\n",
    "\n",
    "boton4=tk.Button(frame,text=\"askyesno\",command=askyesno)\n",
    "boton4.pack(side=tk.LEFT)\n",
    "\n",
    "\n",
    "root.mainloop()      "
   ]
  },
  {
   "cell_type": "code",
   "execution_count": 16,
   "metadata": {},
   "outputs": [
    {
     "name": "stdout",
     "output_type": "stream",
     "text": [
      "((0.0, 0.0, 128.5), '#000080')\n"
     ]
    }
   ],
   "source": [
    "import tkinter as tk\n",
    "from tkinter.colorchooser import askcolor\n",
    "\n",
    "def callback():\n",
    "    result=askcolor(color=\"#6A9662\",\n",
    "                    title=\"Elegir color\")\n",
    "    \n",
    "    print(result)\n",
    "\n",
    "root=tk.Tk()\n",
    "boton_color=tk.Button(root,\n",
    "         text=\"Color\",\n",
    "         fg=\"darkgreen\",\n",
    "         command=callback).pack(side=tk.LEFT,padx=10)\n",
    "\n",
    "tk.Button(text=\"Salir\",\n",
    "         command=root.destroy,\n",
    "         fg=\"red\").pack(side=tk.LEFT,padx=10)\n",
    "\n",
    "tk.mainloop()"
   ]
  },
  {
   "cell_type": "code",
   "execution_count": 23,
   "metadata": {},
   "outputs": [
    {
     "name": "stdout",
     "output_type": "stream",
     "text": [
      "C:/Documentos/__MACOSX/DENVER GROWTH STUDY/HOMBRES/514/._.DS_Store\n"
     ]
    }
   ],
   "source": [
    "import tkinter as tk\n",
    "from tkinter import filedialog as fd\n",
    "\n",
    "def callback():\n",
    "    name=fd.askopenfilename()\n",
    "    print(name)\n",
    "\n",
    "tk.Button(text=\"Abrir...\",\n",
    "    command=callback).pack(fill=tk.X)\n",
    "\n",
    "\n",
    "tk.mainloop()"
   ]
  },
  {
   "cell_type": "code",
   "execution_count": 3,
   "metadata": {},
   "outputs": [
    {
     "name": "stdout",
     "output_type": "stream",
     "text": [
      "Hombre: 0, \n",
      "Mujer: 0\n",
      "Hombre: 0, \n",
      "Mujer: 0\n",
      "Hombre: 0, \n",
      "Mujer: 0\n",
      "Hombre: 0, \n",
      "Mujer: 0\n",
      "Hombre: 0, \n",
      "Mujer: 0\n",
      "Hombre: 0, \n",
      "Mujer: 0\n",
      "Hombre: 0, \n",
      "Mujer: 0\n",
      "Hombre: 0, \n",
      "Mujer: 0\n",
      "Hombre: 1, \n",
      "Mujer: 0\n"
     ]
    }
   ],
   "source": [
    "import tkinter as tk\n",
    "\n",
    "root=tk.Tk()\n",
    "\n",
    "def var_states():\n",
    "    print(\"Hombre: %d, \\nMujer: %d\" %(var1.get(),var2.get()))\n",
    "\n",
    "var1=tk.IntVar()\n",
    "tk.Checkbutton(root,text=\"Hombre\",variable=var1).grid(row=0,sticky=tk.W)\n",
    "var2=tk.IntVar()\n",
    "tk.Checkbutton(root,text=\"Mujer\",variable=\"var2\").grid(row=1,sticky=tk.W)\n",
    "\n",
    "tk.Button(root,text=\"Mostrar\",command=var_states).grid(row=2,sticky=tk.E)\n",
    "\n",
    "root.mainloop()"
   ]
  },
  {
   "cell_type": "code",
   "execution_count": null,
   "metadata": {},
   "outputs": [],
   "source": []
  }
 ],
 "metadata": {
  "kernelspec": {
   "display_name": "Python 3",
   "language": "python",
   "name": "python3"
  },
  "language_info": {
   "codemirror_mode": {
    "name": "ipython",
    "version": 3
   },
   "file_extension": ".py",
   "mimetype": "text/x-python",
   "name": "python",
   "nbconvert_exporter": "python",
   "pygments_lexer": "ipython3",
   "version": "3.8.3"
  }
 },
 "nbformat": 4,
 "nbformat_minor": 4
}
